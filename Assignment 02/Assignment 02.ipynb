{
 "cells": [
  {
   "cell_type": "code",
   "execution_count": 1,
   "metadata": {},
   "outputs": [
    {
     "name": "stdout",
     "output_type": "stream",
     "text": [
      "Enter Math Marks : 79\n",
      "Enter Urdu Marks : 68\n",
      "Enter English Marks : 90\n",
      "Enter Physics Marks : 88\n",
      "Enter Chemistry Marks : 80\n",
      "Marks Obtained Are :  405\n",
      "Percentage Obtained Is :  81.0\n",
      "Grade A+\n"
     ]
    }
   ],
   "source": [
    "#ASSIGNMENT 02 : QUESTION 01\n",
    "m = int(input(\"Enter Math Marks : \"))\n",
    "u = int(input(\"Enter Urdu Marks : \"))\n",
    "e = int(input(\"Enter English Marks : \"))\n",
    "p = int(input(\"Enter Physics Marks : \"))\n",
    "c = int(input(\"Enter Chemistry Marks : \"))\n",
    "\n",
    "total = m+u+e+p+c\n",
    "print(\"Marks Obtained Are : \" , total)\n",
    "per = (total/500)*100\n",
    "print(\"Percentage Obtained Is : \",per)\n",
    "if(per>=80):\n",
    "    print(\"Grade A+\")\n",
    "elif(per<=79 and per>=70):\n",
    "    print(\"Grade A\")\n",
    "elif(per<=69 and per>=60):\n",
    "    print(\"Grade B\")\n",
    "elif(per<60):\n",
    "    print(\"Grade F\")\n",
    "else:\n",
    "    print(\"Invalid\")"
   ]
  },
  {
   "cell_type": "code",
   "execution_count": 3,
   "metadata": {},
   "outputs": [
    {
     "name": "stdout",
     "output_type": "stream",
     "text": [
      "Enter A Number : 3\n",
      "Entered Number Is Odd\n"
     ]
    }
   ],
   "source": [
    "#ASSIGNMENT 02 : QUESTION 02\n",
    "num = int(input(\"Enter A Number : \"))\n",
    "if(num%2==0):\n",
    "    print(\"Entered Number Is Even\")\n",
    "else:\n",
    "    print(\"Entered Number Is Odd\")"
   ]
  },
  {
   "cell_type": "code",
   "execution_count": 5,
   "metadata": {},
   "outputs": [
    {
     "name": "stdout",
     "output_type": "stream",
     "text": [
      "[1, 1, 2, 3, 5, 8, 13, 21, 34, 55, 89]\n",
      "List Length Is :  11\n"
     ]
    }
   ],
   "source": [
    "#ASSIGNMENT 02 : QUESTION 03\n",
    "a = [1, 1, 2, 3, 5, 8, 13, 21, 34, 55, 89]\n",
    "print(a)\n",
    "print(\"List Length Is : \" , len(a))"
   ]
  },
  {
   "cell_type": "code",
   "execution_count": 6,
   "metadata": {},
   "outputs": [
    {
     "name": "stdout",
     "output_type": "stream",
     "text": [
      "Sum :  232\n"
     ]
    }
   ],
   "source": [
    "#ASSIGNMENT 02 : QUESTION 04\n",
    "a = [1, 1, 2, 3, 5, 8, 13, 21, 34, 55, 89]\n",
    "print(\"Sum : \" , sum(a))"
   ]
  },
  {
   "cell_type": "code",
   "execution_count": 7,
   "metadata": {},
   "outputs": [
    {
     "name": "stdout",
     "output_type": "stream",
     "text": [
      "Sum :  89\n"
     ]
    }
   ],
   "source": [
    "#ASSIGNMENT 02 : QUESTION 05\n",
    "a = [1, 1, 2, 3, 5, 8, 13, 21, 34, 55, 89]\n",
    "print(\"Sum : \" , max(a))"
   ]
  },
  {
   "cell_type": "code",
   "execution_count": null,
   "metadata": {},
   "outputs": [],
   "source": [
    "#ASSIGNMENT 02 : QUESTION 06\n"
   ]
  },
  {
   "cell_type": "code",
   "execution_count": null,
   "metadata": {},
   "outputs": [],
   "source": []
  }
 ],
 "metadata": {
  "kernelspec": {
   "display_name": "Python 3",
   "language": "python",
   "name": "python3"
  },
  "language_info": {
   "codemirror_mode": {
    "name": "ipython",
    "version": 3
   },
   "file_extension": ".py",
   "mimetype": "text/x-python",
   "name": "python",
   "nbconvert_exporter": "python",
   "pygments_lexer": "ipython3",
   "version": "3.7.4"
  }
 },
 "nbformat": 4,
 "nbformat_minor": 2
}
